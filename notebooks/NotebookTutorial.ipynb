{
 "cells": [
  {
   "cell_type": "markdown",
   "metadata": {},
   "source": [
    "# Setup"
   ]
  },
  {
   "cell_type": "code",
   "execution_count": null,
   "metadata": {
    "collapsed": true
   },
   "outputs": [],
   "source": [
    "# retrieve data\n",
    "!wget 'https://s3.amazonaws.com/data-platform-tutorial/tweets.csv.gz'"
   ]
  },
  {
   "cell_type": "code",
   "execution_count": null,
   "metadata": {
    "collapsed": true
   },
   "outputs": [],
   "source": [
    "# uncompress data\n",
    "!tar -xvzf tweets.csv.gz"
   ]
  },
  {
   "cell_type": "code",
   "execution_count": null,
   "metadata": {
    "collapsed": true
   },
   "outputs": [],
   "source": [
    "## standard python imports\n",
    "import pandas as pd\n",
    "import numpy as np\n",
    "import matplotlib.pyplot as plt\n",
    "%matplotlib inline\n",
    "\n",
    "## pyspark imports\n",
    "import pyspark\n",
    "from pyspark.sql import SparkSession\n",
    "from pyspark.sql import functions as f\n",
    "\n",
    "# create a spark session\n",
    "spark = (SparkSession.builder\n",
    "         .master(\"local\")\n",
    "         .appName(\"exploratory notebook\")\n",
    "         .enableHiveSupport()\n",
    "         .getOrCreate())"
   ]
  },
  {
   "cell_type": "markdown",
   "metadata": {},
   "source": [
    "# Loading Data"
   ]
  },
  {
   "cell_type": "code",
   "execution_count": null,
   "metadata": {
    "collapsed": true
   },
   "outputs": [],
   "source": [
    "# read csv as a dataframe\n",
    "# df = (spark.read\n",
    "#       .options(header=True, inferSchema=True)\n",
    "#       .csv('tweets.csv'))"
   ]
  },
  {
   "cell_type": "markdown",
   "metadata": {},
   "source": [
    "# Basic Exploration / Wrangling"
   ]
  },
  {
   "cell_type": "markdown",
   "metadata": {},
   "source": [
    "### How many records do we have?"
   ]
  },
  {
   "cell_type": "code",
   "execution_count": null,
   "metadata": {
    "collapsed": true
   },
   "outputs": [],
   "source": [
    "## find the count of rows\n",
    "# num_records = \n",
    "\n",
    "# print this number\n",
    "print(\"{:,} records in the file\".format(num_records))"
   ]
  },
  {
   "cell_type": "markdown",
   "metadata": {},
   "source": [
    "### What are the columns and associated data types?"
   ]
  },
  {
   "cell_type": "code",
   "execution_count": null,
   "metadata": {
    "collapsed": true
   },
   "outputs": [],
   "source": [
    "## print the data types"
   ]
  },
  {
   "cell_type": "markdown",
   "metadata": {},
   "source": [
    "### What does the data look like?"
   ]
  },
  {
   "cell_type": "code",
   "execution_count": null,
   "metadata": {
    "collapsed": true
   },
   "outputs": [],
   "source": [
    "## look at the first few rows\n",
    "df.show(5, truncate=20)"
   ]
  },
  {
   "cell_type": "markdown",
   "metadata": {},
   "source": [
    "### The `when` column is a unix timestamp with millisecond precision. How can we represent it as a timestamp?"
   ]
  },
  {
   "cell_type": "code",
   "execution_count": null,
   "metadata": {
    "collapsed": true
   },
   "outputs": [],
   "source": [
    "# create a new column 'ts', cast as a timestamp\n",
    "\n",
    "\n",
    "# look at the data\n",
    "df.show(5, truncate=25)"
   ]
  },
  {
   "cell_type": "markdown",
   "metadata": {},
   "source": [
    "## Counts, Basic Visualization"
   ]
  },
  {
   "cell_type": "markdown",
   "metadata": {},
   "source": [
    "### How many tweets were recorded for each term?"
   ]
  },
  {
   "cell_type": "code",
   "execution_count": null,
   "metadata": {
    "collapsed": true
   },
   "outputs": [],
   "source": [
    "# group by 'term' and count rows, show the result\n"
   ]
  },
  {
   "cell_type": "markdown",
   "metadata": {},
   "source": [
    "### How can we visualize the above?"
   ]
  },
  {
   "cell_type": "code",
   "execution_count": null,
   "metadata": {
    "collapsed": true
   },
   "outputs": [],
   "source": [
    "# first output to pandas\n",
    "# pandas_df = \n",
    "\n",
    "# set up figure, axes\n",
    "fig, ax = plt.subplots(figsize=(10,6));\n",
    "\n",
    "# use built-in plotting function from pandas\n",
    "pandas_df.plot(x='term', y='count', kind='barh', legend=False, ax=ax);\n",
    "\n",
    "# add axis labels\n",
    "ax.set_xlabel(\"Total Count of Tweets\", size=14);\n",
    "ax.set_ylabel(\"Search Term\", size=14);\n",
    "ax.set_title(\"Count of Tweets by Search Term\", size=20);"
   ]
  },
  {
   "cell_type": "markdown",
   "metadata": {},
   "source": [
    "## Tweet Volume Over Time"
   ]
  },
  {
   "cell_type": "markdown",
   "metadata": {},
   "source": [
    "### What does the volume of tweets look like over time?"
   ]
  },
  {
   "cell_type": "code",
   "execution_count": null,
   "metadata": {
    "collapsed": true
   },
   "outputs": [],
   "source": [
    "# group by 1 minute window, count\n",
    "# counts_by_minute = \n",
    "\n",
    "# show the dataframe\n",
    "counts_by_minute.show(10, truncate=100)"
   ]
  },
  {
   "cell_type": "markdown",
   "metadata": {
    "collapsed": true
   },
   "source": [
    "### Visualize the above data"
   ]
  },
  {
   "cell_type": "code",
   "execution_count": null,
   "metadata": {
    "collapsed": true
   },
   "outputs": [],
   "source": [
    "# first output to pandas\n",
    "\n",
    "# use pandas to extract the first timestamp in the 'window' column\n",
    "# and assign it to the 'time' column\n",
    "\n",
    "# set up figure, axes\n",
    "fig, ax = plt.subplots(figsize=(12,6))\n",
    "\n",
    "# use built-in plotting function from pandas\n",
    "pandas_df.plot(x='time', y='count', legend=None, ax=ax);\n",
    "\n",
    "# add axis labels\n",
    "ax.set_xlabel(\"Time\", size=14);\n",
    "ax.set_ylabel(\"# of Tweets\", size=14);\n",
    "ax.set_title(\"Tweets Per Minute\", size=20);"
   ]
  },
  {
   "cell_type": "markdown",
   "metadata": {},
   "source": [
    "## Tweet Volume Over Time, By Search Term"
   ]
  },
  {
   "cell_type": "markdown",
   "metadata": {},
   "source": [
    "### What does the time series of each term look like?"
   ]
  },
  {
   "cell_type": "code",
   "execution_count": null,
   "metadata": {
    "collapsed": true
   },
   "outputs": [],
   "source": [
    "# group by term, and 1-minute window\n",
    "# counts_by_minute_by_term = \n",
    "\n",
    "# show the dataframe\n",
    "counts_by_minute_by_term.show(10, truncate=100)"
   ]
  },
  {
   "cell_type": "markdown",
   "metadata": {},
   "source": [
    "### Visualize the above data"
   ]
  },
  {
   "cell_type": "code",
   "execution_count": null,
   "metadata": {
    "collapsed": true
   },
   "outputs": [],
   "source": [
    "# first output to pandas\n",
    "\n",
    "# use pandas to extract the first timestamp in the 'window' column\n",
    "# and assign it to the 'time' column\n",
    "pandas_df['time'] = pandas_df['window'].apply(lambda w: w[0])\n",
    "\n",
    "# set up figure, axes\n",
    "fig, ax = plt.subplots(figsize=(12,6))\n",
    "\n",
    "# plot each term individually\n",
    "for term, group in pandas_df.groupby('term'):\n",
    "    group.plot(x='time', y='count', label=term.upper(), ax=ax);\n",
    "\n",
    "# set up axes labels\n",
    "ax.set_xlabel(\"Time\", size=14);\n",
    "ax.set_ylabel(\"# of Tweets\", size=14);\n",
    "ax.set_title(\"Tweets Per Minute\", size=20);"
   ]
  },
  {
   "cell_type": "markdown",
   "metadata": {},
   "source": [
    "## Inspecting A Subset Of NBA Tweets"
   ]
  },
  {
   "cell_type": "markdown",
   "metadata": {},
   "source": [
    "### What are people tweeting about at a particular time?"
   ]
  },
  {
   "cell_type": "code",
   "execution_count": null,
   "metadata": {
    "collapsed": true
   },
   "outputs": [],
   "source": [
    "# set the bounds of the time window we'd like to look at\n",
    "start_time = '2017-05-23 03:45:00'\n",
    "end_time = '2017-05-23 04:15:00'\n",
    "\n",
    "# select nba tweets in this time window\n",
    "# nba_tweets = \n",
    "\n",
    "# show the text of the first few tweets at that time\n",
    "nba_tweets.select('value').show(10, truncate=100)"
   ]
  },
  {
   "cell_type": "markdown",
   "metadata": {},
   "source": [
    "## What words are people using in these tweets?"
   ]
  },
  {
   "cell_type": "markdown",
   "metadata": {},
   "source": [
    "### 1. Split tweets into arrays of words"
   ]
  },
  {
   "cell_type": "code",
   "execution_count": null,
   "metadata": {
    "collapsed": true
   },
   "outputs": [],
   "source": [
    "# use pyspark's built-in text processing tools\n",
    "from pyspark.ml.feature import Tokenizer, StopWordsRemover\n",
    "\n",
    "# split each tweet into it's constituent words\n",
    "# tokenizer = \n",
    "# words_df = \n",
    "\n",
    "# show the result\n",
    "words_df.select('words').show(10, truncate=100)"
   ]
  },
  {
   "cell_type": "markdown",
   "metadata": {},
   "source": [
    "### 2. Count the words"
   ]
  },
  {
   "cell_type": "code",
   "execution_count": null,
   "metadata": {
    "collapsed": true
   },
   "outputs": [],
   "source": [
    "# count the resulting words\n",
    "# exploded = \n",
    "# word_counts = \n",
    "\n",
    "# show the result, in descending order\n",
    "word_counts.orderBy('count', ascending=False).show(10)"
   ]
  },
  {
   "cell_type": "markdown",
   "metadata": {},
   "source": [
    "### 3. Get rid of common, non-informative words"
   ]
  },
  {
   "cell_type": "code",
   "execution_count": null,
   "metadata": {
    "collapsed": true
   },
   "outputs": [],
   "source": [
    "# use the StopWordsRemover tool to filter word arrays\n",
    "# sw_remover = \n",
    "# filtered_words_df = \n",
    "\n",
    "# count the result\n",
    "exploded = filtered_words_df.select(f.explode('filtered words').alias('word'))\n",
    "filtered_word_counts = exploded.groupby('word').count()\n",
    "\n",
    "# show the result, in descending order\n",
    "filtered_word_counts.orderBy('count', ascending=False).show(10)"
   ]
  }
 ],
 "metadata": {
  "kernelspec": {
   "display_name": "Python 3",
   "language": "python",
   "name": "python3"
  },
  "language_info": {
   "codemirror_mode": {
    "name": "ipython",
    "version": 3
   },
   "file_extension": ".py",
   "mimetype": "text/x-python",
   "name": "python",
   "nbconvert_exporter": "python",
   "pygments_lexer": "ipython3",
   "version": "3.4.5"
  }
 },
 "nbformat": 4,
 "nbformat_minor": 2
}
