{
 "cells": [
  {
   "cell_type": "markdown",
   "metadata": {},
   "source": [
    "# Setup"
   ]
  },
  {
   "cell_type": "code",
   "execution_count": null,
   "metadata": {
    "collapsed": true
   },
   "outputs": [],
   "source": [
    "# retrieve data\n",
    "!wget 'https://s3.amazonaws.com/data-platform-tutorial/tweets.csv.gz'"
   ]
  },
  {
   "cell_type": "code",
   "execution_count": null,
   "metadata": {
    "collapsed": true
   },
   "outputs": [],
   "source": [
    "# uncompress data\n",
    "!tar -xvzf tweets.csv.gz"
   ]
  },
  {
   "cell_type": "code",
   "execution_count": 1,
   "metadata": {
    "collapsed": true
   },
   "outputs": [],
   "source": [
    "## standard python imports\n",
    "import pandas as pd\n",
    "import numpy as np\n",
    "import matplotlib.pyplot as plt\n",
    "%matplotlib inline\n",
    "\n",
    "## pyspark imports\n",
    "import pyspark\n",
    "from pyspark.sql import SparkSession\n",
    "from pyspark.sql import functions as f\n",
    "\n",
    "# create a spark session\n",
    "spark = (SparkSession.builder\n",
    "         .master(\"local\")\n",
    "         .appName(\"exploratory notebook\")\n",
    "         .enableHiveSupport()\n",
    "         .getOrCreate())"
   ]
  },
  {
   "cell_type": "markdown",
   "metadata": {},
   "source": [
    "# Loading Data"
   ]
  },
  {
   "cell_type": "code",
   "execution_count": 2,
   "metadata": {
    "collapsed": true
   },
   "outputs": [],
   "source": [
    "# read csv as a dataframe\n",
    "df = (spark.read\n",
    "      .options(header=True, inferSchema=True)\n",
    "      .csv('tweets.csv'))"
   ]
  },
  {
   "cell_type": "markdown",
   "metadata": {},
   "source": [
    "# Basic Exploration / Wrangling"
   ]
  },
  {
   "cell_type": "markdown",
   "metadata": {},
   "source": [
    "### How many records do we have?"
   ]
  },
  {
   "cell_type": "code",
   "execution_count": 3,
   "metadata": {},
   "outputs": [
    {
     "name": "stdout",
     "output_type": "stream",
     "text": [
      "241,489 records in the file\n"
     ]
    }
   ],
   "source": [
    "## find the count of rows\n",
    "num_records = df.count()\n",
    "# print this number\n",
    "print(\"{:,} records in the file\".format(num_records))"
   ]
  },
  {
   "cell_type": "markdown",
   "metadata": {},
   "source": [
    "### What are the columns and associated data types?"
   ]
  },
  {
   "cell_type": "code",
   "execution_count": 4,
   "metadata": {},
   "outputs": [
    {
     "name": "stdout",
     "output_type": "stream",
     "text": [
      "[('id', 'bigint'), ('when', 'bigint'), ('sender', 'string'), ('term', 'string'), ('value', 'string')]\n"
     ]
    }
   ],
   "source": [
    "## print the data types\n",
    "print(df.dtypes)"
   ]
  },
  {
   "cell_type": "markdown",
   "metadata": {},
   "source": [
    "### What does the data look like?"
   ]
  },
  {
   "cell_type": "code",
   "execution_count": 5,
   "metadata": {},
   "outputs": [
    {
     "name": "stdout",
     "output_type": "stream",
     "text": [
      "+------------------+-------------+---------------+----+--------------------+\n",
      "|                id|         when|         sender|term|               value|\n",
      "+------------------+-------------+---------------+----+--------------------+\n",
      "|866772705256783872|1495489691000|    AlyssaWager| nfl|#NFL #Cards: NEW ...|\n",
      "|866772707030966272|1495489691000|BostonCeltics1v| nba|#NBA #Celtics #Ar...|\n",
      "|866772707769163777|1495489692000|    playerpress| nfl|#NFL Wire: Aaron ...|\n",
      "|866772707072811009|1495489691000|    IslaSambell| nfl|#Cards HOUSTON #T...|\n",
      "|866772708511678466|1495489692000|      delimavim| nba|\"RT @Fenerizmnet:...|\n",
      "+------------------+-------------+---------------+----+--------------------+\n",
      "only showing top 5 rows\n",
      "\n"
     ]
    }
   ],
   "source": [
    "## look at the first few rows\n",
    "df.show(5, truncate=20)"
   ]
  },
  {
   "cell_type": "markdown",
   "metadata": {},
   "source": [
    "### The `when` column is a unix timestamp with millisecond precision. How can we represent it as a timestamp?"
   ]
  },
  {
   "cell_type": "code",
   "execution_count": 6,
   "metadata": {},
   "outputs": [
    {
     "name": "stdout",
     "output_type": "stream",
     "text": [
      "+------------------+-------------+---------------+----+-------------------------+---------------------+\n",
      "|                id|         when|         sender|term|                    value|                   ts|\n",
      "+------------------+-------------+---------------+----+-------------------------+---------------------+\n",
      "|866772705256783872|1495489691000|    AlyssaWager| nfl|#NFL #Cards: NEW YORK ...|2017-05-22 21:48:11.0|\n",
      "|866772707030966272|1495489691000|BostonCeltics1v| nba|#NBA #Celtics #Arena A...|2017-05-22 21:48:11.0|\n",
      "|866772707769163777|1495489692000|    playerpress| nfl|#NFL Wire: Aaron Donal...|2017-05-22 21:48:12.0|\n",
      "|866772707072811009|1495489691000|    IslaSambell| nfl|#Cards HOUSTON #Texans...|2017-05-22 21:48:11.0|\n",
      "|866772708511678466|1495489692000|      delimavim| nba|\"RT @Fenerizmnet: Rıdv...|2017-05-22 21:48:12.0|\n",
      "+------------------+-------------+---------------+----+-------------------------+---------------------+\n",
      "only showing top 5 rows\n",
      "\n"
     ]
    }
   ],
   "source": [
    "# create a new column, cast as a timestamp\n",
    "df = df.withColumn('ts', (df['when']/1000).cast('timestamp'))\n",
    "\n",
    "# look at the data\n",
    "df.show(5, truncate=25)"
   ]
  },
  {
   "cell_type": "markdown",
   "metadata": {},
   "source": [
    "## Counts, Basic Visualization"
   ]
  },
  {
   "cell_type": "markdown",
   "metadata": {},
   "source": [
    "### How many tweets were recorded for each term?"
   ]
  },
  {
   "cell_type": "code",
   "execution_count": 7,
   "metadata": {},
   "outputs": [
    {
     "name": "stdout",
     "output_type": "stream",
     "text": [
      "+----+------+\n",
      "|term| count|\n",
      "+----+------+\n",
      "| nfl| 34483|\n",
      "| nba|207006|\n",
      "+----+------+\n",
      "\n"
     ]
    }
   ],
   "source": [
    "# group by 'term' and count rows, show the result\n",
    "df.groupby('term').count().show()"
   ]
  },
  {
   "cell_type": "markdown",
   "metadata": {},
   "source": [
    "### How can we visualize the above?"
   ]
  },
  {
   "cell_type": "code",
   "execution_count": 18,
   "metadata": {},
   "outputs": [
    {
     "data": {
      "image/png": "[encoded data removed]",
      "text/plain": [
       "<matplotlib.figure.Figure at 0x7f8fb4185630>"
      ]
     },
     "metadata": {},
     "output_type": "display_data"
    }
   ],
   "source": [
    "# first output to pandas\n",
    "pandas_df = df.groupby('term').count().toPandas()\n",
    "\n",
    "# set up figure, axes\n",
    "fig, ax = plt.subplots(figsize=(10,6));\n",
    "\n",
    "# use built-in plotting function from pandas\n",
    "pandas_df.plot(x='term', y='count', kind='barh', legend=False, ax=ax);\n",
    "\n",
    "# add axis labels\n",
    "ax.set_xlabel(\"Total Count of Tweets\", size=14);\n",
    "ax.set_ylabel(\"Search Term\", size=14);\n",
    "ax.set_title(\"Count of Tweets by Search Term\", size=20);"
   ]
  },
  {
   "cell_type": "markdown",
   "metadata": {},
   "source": [
    "## Tweet Volume Over Time"
   ]
  },
  {
   "cell_type": "markdown",
   "metadata": {},
   "source": [
    "### What does the volume of tweets look like over time?"
   ]
  },
  {
   "cell_type": "code",
   "execution_count": 9,
   "metadata": {},
   "outputs": [
    {
     "name": "stdout",
     "output_type": "stream",
     "text": [
      "+---------------------------------------------+-----+\n",
      "|                                       window|count|\n",
      "+---------------------------------------------+-----+\n",
      "|[2017-05-23 00:33:00.0,2017-05-23 00:34:00.0]|  275|\n",
      "|[2017-05-23 03:24:00.0,2017-05-23 03:25:00.0]|  495|\n",
      "|[2017-05-23 05:13:00.0,2017-05-23 05:14:00.0]|  272|\n",
      "|[2017-05-22 22:25:00.0,2017-05-22 22:26:00.0]|  177|\n",
      "|[2017-05-22 23:35:00.0,2017-05-22 23:36:00.0]|  204|\n",
      "|[2017-05-23 00:02:00.0,2017-05-23 00:03:00.0]|  208|\n",
      "|[2017-05-23 01:52:00.0,2017-05-23 01:53:00.0]|  327|\n",
      "|[2017-05-23 02:58:00.0,2017-05-23 02:59:00.0]|  392|\n",
      "|[2017-05-23 03:56:00.0,2017-05-23 03:57:00.0]| 1066|\n",
      "|[2017-05-23 06:00:00.0,2017-05-23 06:01:00.0]|  207|\n",
      "+---------------------------------------------+-----+\n",
      "only showing top 10 rows\n",
      "\n"
     ]
    }
   ],
   "source": [
    "# group by 1 minute window, count\n",
    "counts_by_minute = (df.groupby(f.window('ts', '1 minute'))\n",
    "                    .count())\n",
    "# show the dataframe\n",
    "counts_by_minute.show(10, truncate=100)"
   ]
  },
  {
   "cell_type": "markdown",
   "metadata": {
    "collapsed": true
   },
   "source": [
    "### Visualize the above data"
   ]
  },
  {
   "cell_type": "code",
   "execution_count": 20,
   "metadata": {},
   "outputs": [
    {
     "data": {
      "image/png": "[encoded data removed]",
      "text/plain": [
       "<matplotlib.figure.Figure at 0x7f8fb72617b8>"
      ]
     },
     "metadata": {},
     "output_type": "display_data"
    }
   ],
   "source": [
    "# first output to pandas\n",
    "pandas_df = counts_by_minute.toPandas()\n",
    "# use pandas to extract the first timestamp in the 'window' column\n",
    "# and assign it to the 'time' column\n",
    "pandas_df['time'] = pandas_df['window'].apply(lambda w: w[0])\n",
    "\n",
    "# set up figure, axes\n",
    "fig, ax = plt.subplots(figsize=(12,6))\n",
    "\n",
    "# use built-in plotting function from pandas\n",
    "pandas_df.plot(x='time', y='count', legend=None, ax=ax);\n",
    "\n",
    "# add axis labels\n",
    "ax.set_xlabel(\"Time\", size=14);\n",
    "ax.set_ylabel(\"# of Tweets\", size=14);\n",
    "ax.set_title(\"Tweets Per Minute\", size=20);"
   ]
  },
  {
   "cell_type": "markdown",
   "metadata": {},
   "source": [
    "## Tweet Volume Over Time, By Search Term"
   ]
  },
  {
   "cell_type": "markdown",
   "metadata": {},
   "source": [
    "### What does the time series of each term look like?"
   ]
  },
  {
   "cell_type": "code",
   "execution_count": 11,
   "metadata": {},
   "outputs": [
    {
     "name": "stdout",
     "output_type": "stream",
     "text": [
      "+----+---------------------------------------------+-----+\n",
      "|term|                                       window|count|\n",
      "+----+---------------------------------------------+-----+\n",
      "| nba|[2017-05-23 01:25:00.0,2017-05-23 01:26:00.0]|  415|\n",
      "| nba|[2017-05-23 06:28:00.0,2017-05-23 06:29:00.0]|  135|\n",
      "| nba|[2017-05-23 06:52:00.0,2017-05-23 06:53:00.0]|  116|\n",
      "| nfl|[2017-05-23 07:10:00.0,2017-05-23 07:11:00.0]|   14|\n",
      "| nba|[2017-05-23 10:40:00.0,2017-05-23 10:41:00.0]|  106|\n",
      "| nfl|[2017-05-23 11:53:00.0,2017-05-23 11:54:00.0]|   24|\n",
      "| nfl|[2017-05-22 23:26:00.0,2017-05-22 23:27:00.0]|   69|\n",
      "| nba|[2017-05-23 02:07:00.0,2017-05-23 02:08:00.0]|  376|\n",
      "| nba|[2017-05-23 03:38:00.0,2017-05-23 03:39:00.0]| 1561|\n",
      "| nba|[2017-05-23 03:54:00.0,2017-05-23 03:55:00.0]|  830|\n",
      "+----+---------------------------------------------+-----+\n",
      "only showing top 10 rows\n",
      "\n"
     ]
    }
   ],
   "source": [
    "# group by term, and 1-minute window\n",
    "counts_by_minute_by_term = (df.groupby('term', \n",
    "                                       f.window('ts', '1 minute'))\n",
    "                            .count())\n",
    "# show the dataframe\n",
    "counts_by_minute_by_term.show(10, truncate=100)"
   ]
  },
  {
   "cell_type": "markdown",
   "metadata": {},
   "source": [
    "### Visualize the above data"
   ]
  },
  {
   "cell_type": "code",
   "execution_count": 12,
   "metadata": {},
   "outputs": [
    {
     "data": {
      "image/png": "[encoded data removed]",
      "text/plain": [
       "<matplotlib.figure.Figure at 0x7f8fe800f0b8>"
      ]
     },
     "metadata": {},
     "output_type": "display_data"
    }
   ],
   "source": [
    "# first output to pandas\n",
    "pandas_df = counts_by_minute_by_term.toPandas()\n",
    "# use pandas to extract the first timestamp in the 'window' column\n",
    "# and assign it to the 'time' column\n",
    "pandas_df['time'] = pandas_df['window'].apply(lambda w: w[0])\n",
    "\n",
    "# set up figure, axes\n",
    "fig, ax = plt.subplots(figsize=(12,6))\n",
    "\n",
    "# plot each term individually\n",
    "for term, group in pandas_df.groupby('term'):\n",
    "    group.plot(x='time', y='count', label=term.upper(), ax=ax);\n",
    "\n",
    "# set up axes labels\n",
    "ax.set_xlabel(\"Time\", size=14);\n",
    "ax.set_ylabel(\"# of Tweets\", size=14);\n",
    "ax.set_title(\"Tweets Per Minute\", size=20);"
   ]
  },
  {
   "cell_type": "markdown",
   "metadata": {},
   "source": [
    "## Inspecting A Subset Of NBA Tweets"
   ]
  },
  {
   "cell_type": "markdown",
   "metadata": {},
   "source": [
    "### What are people tweeting about at a particular time?"
   ]
  },
  {
   "cell_type": "code",
   "execution_count": 13,
   "metadata": {},
   "outputs": [
    {
     "name": "stdout",
     "output_type": "stream",
     "text": [
      "+----------------------------------------------------------------------------------------------------+\n",
      "|                                                                                               value|\n",
      "+----------------------------------------------------------------------------------------------------+\n",
      "|RT @FOXSports: WELP 😳The @warriors sweep the Spurs and head to the NBA Finals for the third stra...|\n",
      "| RT @SportsCenter: No one in NBA history has ever started the playoffs 12-0. https://t.co/CvdNX6uibm|\n",
      "|RT @SportsCenter: Not one ... not two ... but THREE straight NBA Finals appearances. https://t.co...|\n",
      "|RT @warriors: The Warriors are the first team in NBA history to start a postseason 12-0. #Strengt...|\n",
      "|RT @NBA: Boston Celtics guard Marcus Smart defies odds with miraculous Game 3 performance (via @j...|\n",
      "|                    A reader's 2017 NBA Mock Draft with player comparisons - https://t.co/QUEw0cky4h|\n",
      "|RT @NBA: For the third consecutive season, the @Warriors​ are #NBAFinals bound!#ThisIsWhyWePlay h...|\n",
      "|RT @warriors: The Warriors are the first team in NBA history to start a postseason 12-0. #Strengt...|\n",
      "|Who will #Lakers take at no 2? Mark Medina breaks it down here. https://t.co/CLaKM1QAbz    #Laker...|\n",
      "|RT @NBA: In a series-clinching Game 4, Kevin Durant scored 29 PTS on just 13 field goal attempts....|\n",
      "+----------------------------------------------------------------------------------------------------+\n",
      "only showing top 10 rows\n",
      "\n"
     ]
    }
   ],
   "source": [
    "# set the bounds of the time window we'd like to look at\n",
    "start_time = '2017-05-23 03:45:00'\n",
    "end_time = '2017-05-23 04:15:00'\n",
    "\n",
    "# first select only nba tweets\n",
    "nba_tweets = df[(df['term'] == 'nba') & (df['ts'].between(start_time, end_time))]\n",
    "\n",
    "# show the text of the first few tweets at that time\n",
    "nba_tweets.select('value').show(10, truncate=100)"
   ]
  },
  {
   "cell_type": "markdown",
   "metadata": {},
   "source": [
    "## What words are people using in these tweets?"
   ]
  },
  {
   "cell_type": "markdown",
   "metadata": {},
   "source": [
    "### 1. Split tweets into arrays of words"
   ]
  },
  {
   "cell_type": "code",
   "execution_count": 14,
   "metadata": {},
   "outputs": [
    {
     "name": "stdout",
     "output_type": "stream",
     "text": [
      "+----------------------------------------------------------------------------------------------------+\n",
      "|                                                                                               words|\n",
      "+----------------------------------------------------------------------------------------------------+\n",
      "|[rt, @foxsports:, welp, 😳the, @warriors, sweep, the, spurs, and, head, to, the, nba, finals, for...|\n",
      "|[rt, @sportscenter:, no, one, in, nba, history, has, ever, started, the, playoffs, 12-0., https:/...|\n",
      "|[rt, @sportscenter:, not, one, ..., not, two, ..., but, three, straight, nba, finals, appearances...|\n",
      "|[rt, @warriors:, the, warriors, are, the, first, team, in, nba, history, to, start, a, postseason...|\n",
      "|[rt, @nba:, boston, celtics, guard, marcus, smart, defies, odds, with, miraculous, game, 3, perfo...|\n",
      "|        [a, reader's, 2017, nba, mock, draft, with, player, comparisons, -, https://t.co/quew0cky4h]|\n",
      "|[rt, @nba:, for, the, third, consecutive, season,, the, @warriors​, are, #nbafinals, bound!#thisi...|\n",
      "|[rt, @warriors:, the, warriors, are, the, first, team, in, nba, history, to, start, a, postseason...|\n",
      "|[who, will, #lakers, take, at, no, 2?, mark, medina, breaks, it, down, here., https://t.co/clakm1...|\n",
      "|[rt, @nba:, in, a, series-clinching, game, 4,, kevin, durant, scored, 29, pts, on, just, 13, fiel...|\n",
      "+----------------------------------------------------------------------------------------------------+\n",
      "only showing top 10 rows\n",
      "\n"
     ]
    }
   ],
   "source": [
    "# use pyspark's built-in text processing tools\n",
    "from pyspark.ml.feature import Tokenizer, StopWordsRemover\n",
    "\n",
    "# split each tweet into it's constituent words\n",
    "tokenizer = Tokenizer(inputCol='value', outputCol='words')\n",
    "words_df = tokenizer.transform(nba_tweets)\n",
    "\n",
    "# show the result\n",
    "words_df.select('words').show(10, truncate=100)"
   ]
  },
  {
   "cell_type": "markdown",
   "metadata": {},
   "source": [
    "### 2. Count the words"
   ]
  },
  {
   "cell_type": "code",
   "execution_count": 15,
   "metadata": {},
   "outputs": [
    {
     "name": "stdout",
     "output_type": "stream",
     "text": [
      "+--------+-----+\n",
      "|    word|count|\n",
      "+--------+-----+\n",
      "|      rt|19744|\n",
      "|     the|16749|\n",
      "|     nba|14231|\n",
      "|      to| 7930|\n",
      "|      in| 6875|\n",
      "|       a| 6798|\n",
      "|   @nba:| 5316|\n",
      "|warriors| 3774|\n",
      "|      as| 3624|\n",
      "| history| 3476|\n",
      "+--------+-----+\n",
      "only showing top 10 rows\n",
      "\n"
     ]
    }
   ],
   "source": [
    "# count the resulting words\n",
    "exploded = words_df.select(f.explode('words').alias('word'))\n",
    "word_counts = exploded.groupby('word').count()\n",
    "\n",
    "# show the result, in descending order\n",
    "word_counts.orderBy('count', ascending=False).show(10)"
   ]
  },
  {
   "cell_type": "markdown",
   "metadata": {},
   "source": [
    "### 3. Get rid of common, non-informative words"
   ]
  },
  {
   "cell_type": "code",
   "execution_count": 16,
   "metadata": {},
   "outputs": [
    {
     "name": "stdout",
     "output_type": "stream",
     "text": [
      "+----------+-----+\n",
      "|      word|count|\n",
      "+----------+-----+\n",
      "|        rt|19744|\n",
      "|       nba|14231|\n",
      "|     @nba:| 5316|\n",
      "|  warriors| 3774|\n",
      "|   history| 3476|\n",
      "|    finals| 3336|\n",
      "|     12-0.| 2811|\n",
      "|      manu| 2693|\n",
      "|#dubnation| 2582|\n",
      "|      team| 2553|\n",
      "+----------+-----+\n",
      "only showing top 10 rows\n",
      "\n"
     ]
    }
   ],
   "source": [
    "# use the StopWordsRemover tool to filter word arrays\n",
    "sw_remover = StopWordsRemover(inputCol='words', outputCol='filtered words')\n",
    "filtered_words_df = sw_remover.transform(words_df).select('filtered words')\n",
    "\n",
    "# count the result\n",
    "exploded = filtered_words_df.select(f.explode('filtered words').alias('word'))\n",
    "filtered_word_counts = exploded.groupby('word').count()\n",
    "\n",
    "# show the result, in descending order\n",
    "filtered_word_counts.orderBy('count', ascending=False).show(10)"
   ]
  }
 ],
 "metadata": {
  "kernelspec": {
   "display_name": "Python 3",
   "language": "python",
   "name": "python3"
  },
  "language_info": {
   "codemirror_mode": {
    "name": "ipython",
    "version": 3
   },
   "file_extension": ".py",
   "mimetype": "text/x-python",
   "name": "python",
   "nbconvert_exporter": "python",
   "pygments_lexer": "ipython3",
   "version": "3.4.5"
  }
 },
 "nbformat": 4,
 "nbformat_minor": 2
}
